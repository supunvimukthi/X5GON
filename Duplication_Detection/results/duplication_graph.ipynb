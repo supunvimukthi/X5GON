{
 "cells": [
  {
   "cell_type": "code",
   "execution_count": 1,
   "metadata": {},
   "outputs": [],
   "source": [
    "from os import listdir\n",
    "from os.path import isfile, join\n",
    "import plotly.graph_objects as go\n",
    "import networkx as nx\n",
    "import plotly.graph_objects as go\n",
    "import dash\n",
    "import dash_core_components as dcc\n",
    "import dash_html_components as html\n",
    "\n",
    "from matplotlib import pylab\n",
    "import matplotlib.pyplot as plt\n",
    "import networkx as nx\n",
    "import csv\n",
    "import webbrowser"
   ]
  },
  {
   "cell_type": "code",
   "execution_count": null,
   "metadata": {},
   "outputs": [],
   "source": [
    "# get all duplicate results\n",
    "path = \"./\"\n",
    "onlyfiles = [f for f in listdir(path) if isfile(join(path, f))]\n",
    "onlyfiles = [i for i in onlyfiles if '.txt' in i]\n",
    "files = []\n",
    "for file in onlyfiles:\n",
    "    f = open(file, \"r\")\n",
    "    files.append(eval(f.read()))\n",
    "\n",
    "groups = [j for i in files for j in i]\n",
    "docs = [j for i in groups for j in i] # duplicate result array\n",
    "final_docs = [[i[0], list(set(i[2]) & set(i[3]))] for i in docs] # array with material ids and its duplicates"
   ]
  },
  {
   "cell_type": "code",
   "execution_count": 10,
   "metadata": {},
   "outputs": [
    {
     "name": "stdout",
     "output_type": "stream",
     "text": [
      "documents count : 112136\n",
      "Name: \n",
      "Type: Graph\n",
      "Number of nodes: 620\n",
      "Number of edges: 965\n",
      "Average degree:   3.1129\n"
     ]
    }
   ],
   "source": [
    "f=open(\"out_duplicates.txt\",\"r\")\n",
    "final_docs = eval(f.read())\n",
    "print(\"documents count : \"+str(len(final_docs)))\n",
    "\n",
    "# get urls and word counts for all oer materials\n",
    "reader=csv.reader(open(\"./urls.csv\", newline=''))\n",
    "urls = [a for a in reader]\n",
    "\n",
    "word_count = {int(i[2]):int(i[0]) for i in urls}\n",
    "url_dict = {int(i[2]):i[1] for i in urls}\n",
    "\n",
    "# initializing the graph\n",
    "G = nx.Graph()\n",
    "duplicate_count = 2 # change this value for the graph to show documents with more than this number of duplicates\n",
    "\n",
    "# all the nodes and edges for duplicate pairs\n",
    "nodes = list(set([i[0] for i in final_docs if len(i[1]) > duplicate_count] + [j for i in final_docs for j in i[1] if len(i[1]) > duplicate_count]))\n",
    "edges = []\n",
    "for i in final_docs:\n",
    "    for j in i[1]:\n",
    "        if i[0] != j and len(i[1])>duplicate_count:\n",
    "            edges.append((i[0], j))\n",
    "G.add_nodes_from(nodes)\n",
    "for e in edges:\n",
    "    G.add_edge(*e)\n",
    "\n",
    "# Graph info\n",
    "print(nx.info(G))\n",
    "\n"
   ]
  },
  {
   "cell_type": "code",
   "execution_count": 11,
   "metadata": {},
   "outputs": [
    {
     "data": {
      "application/vnd.jupyter.widget-view+json": {
       "model_id": "4a318d792aea482aaafc8d500aa9a40d",
       "version_major": 2,
       "version_minor": 0
      },
      "text/plain": [
       "FigureWidget({\n",
       "    'data': [{'hoverinfo': 'none',\n",
       "              'line': {'color': '#888', 'width': 0.5},\n",
       "     …"
      ]
     },
     "metadata": {},
     "output_type": "display_data"
    }
   ],
   "source": [
    "# get graph positions for each node\n",
    "pos=nx.spring_layout(G)\n",
    "\n",
    "edge_x = []\n",
    "edge_y = []\n",
    "for edge in G.edges():\n",
    "    x0, y0 = pos[edge[0]]\n",
    "    x1, y1 = pos[edge[1]]\n",
    "    edge_x.append(x0)\n",
    "    edge_x.append(x1)\n",
    "    edge_x.append(None)\n",
    "    edge_y.append(y0)\n",
    "    edge_y.append(y1)\n",
    "    edge_y.append(None)\n",
    "\n",
    "# defining all the edges\n",
    "edge_trace = go.Scatter(\n",
    "    x=edge_x, y=edge_y,\n",
    "    line=dict(width=0.5, color='#888'),\n",
    "    hoverinfo='none',\n",
    "    mode='lines')\n",
    "\n",
    "node_x = []\n",
    "node_y = []\n",
    "for node in G.nodes():\n",
    "    x, y = pos[node]\n",
    "    node_x.append(x)\n",
    "    node_y.append(y)\n",
    "\n",
    "# defining all the nodes\n",
    "node_trace = go.Scatter(\n",
    "    x=node_x, y=node_y,\n",
    "    mode='markers',\n",
    "    hoverinfo='text',\n",
    "    marker=dict(\n",
    "        showscale=True,\n",
    "        colorscale='YlGnBu',\n",
    "        reversescale=True,\n",
    "        color=[],\n",
    "        size=10,\n",
    "        colorbar=dict(\n",
    "            thickness=15,\n",
    "            title='Node Connections',\n",
    "            xanchor='left',\n",
    "            titleside='right'\n",
    "        ),\n",
    "        line_width=2))\n",
    "\n",
    "# add hover labels : material ids, no of duplicates, word_count\n",
    "node_adjacencies = []\n",
    "node_text = []\n",
    "for node, adjacencies in enumerate(G.adjacency()):\n",
    "    node_adjacencies.append(len(adjacencies[1]))\n",
    "    if adjacencies[0] in word_count:\n",
    "        node_text.append('material_id = '+str(adjacencies[0])+'<br>No of connections = '+str(len(adjacencies[1]))+\"<br>word_count = \"+str(word_count[adjacencies[0]]))\n",
    "    else:\n",
    "        node_text.append('material_id = '+str(adjacencies[0])+'<br>No of connections = '+str(len(adjacencies[1])))        \n",
    "node_trace.marker.color = node_adjacencies\n",
    "node_trace.text = node_text\n",
    "\n",
    "fig = go.FigureWidget(data=[edge_trace, node_trace],\n",
    "             layout=go.Layout(\n",
    "                title='<br>Duplicates Graph',\n",
    "                titlefont_size=16,\n",
    "                showlegend=False,\n",
    "                hovermode='closest',\n",
    "                margin=dict(b=20,l=5,r=5,t=40),\n",
    "                xaxis=dict(showgrid=False, zeroline=False, showticklabels=True),\n",
    "                yaxis=dict(showgrid=False, zeroline=False, showticklabels=True))\n",
    "                )\n",
    "\n",
    "node=[i for i in G.nodes()]\n",
    "# call back for the click event on points to direct to oer materials\n",
    "def update_point(trace, points, selector):\n",
    "    try:\n",
    "        webbrowser.open(url_dict[node[points.point_inds[0]]])\n",
    "    except Exception as e:\n",
    "        print(e)\n",
    "fig.data[1].on_click(update_point)\n",
    "\n",
    "fig"
   ]
  },
  {
   "cell_type": "code",
   "execution_count": 12,
   "metadata": {},
   "outputs": [
    {
     "data": {
      "text/plain": [
       "112136"
      ]
     },
     "execution_count": 12,
     "metadata": {},
     "output_type": "execute_result"
    }
   ],
   "source": [
    "reverse_url=dict([(value, key) for key, value in url_dict.items()])\n",
    "len(word_count)\n",
    "all_d = [i+[word_count[i[0]]] if i[0] in word_count else i for i in final_docs]\n",
    "len(all_d)"
   ]
  },
  {
   "cell_type": "code",
   "execution_count": 25,
   "metadata": {},
   "outputs": [
    {
     "data": {
      "text/plain": [
       "293"
      ]
     },
     "execution_count": 25,
     "metadata": {},
     "output_type": "execute_result"
    }
   ],
   "source": [
    "len([i for i in all_d if len(i[1])>1 and len(i)>2 and i[2]<100])"
   ]
  }
 ],
 "metadata": {
  "kernelspec": {
   "display_name": "Python 3",
   "language": "python",
   "name": "python3"
  },
  "language_info": {
   "codemirror_mode": {
    "name": "ipython",
    "version": 3
   },
   "file_extension": ".py",
   "mimetype": "text/x-python",
   "name": "python",
   "nbconvert_exporter": "python",
   "pygments_lexer": "ipython3",
   "version": "3.7.7"
  }
 },
 "nbformat": 4,
 "nbformat_minor": 4
}
